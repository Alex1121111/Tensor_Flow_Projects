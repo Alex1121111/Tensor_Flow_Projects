{
 "cells": [
  {
   "cell_type": "markdown",
   "id": "f9fbb7f3",
   "metadata": {},
   "source": [
    "# Problem Statement: \n",
    "Build a deep neural network model that can classify traffic\n",
    "signs present in the image into different categories.\n",
    "There are different types of traffic signs like speed limits, no entry, traffic signals,\n",
    "turn left or right, children crossing, no passing of heavy vehicles, etc. Traffic signs\n",
    "classification is the process of identifying which class a traffic sign belongs to.\n",
    "Dataset for this task is available at Kaggle. Download the dataset from Kaggle.\n",
    "https://www.kaggle.com/meowmeowmeowmeowmeow/gtsrb-german-traffic-sign"
   ]
  },
  {
   "cell_type": "code",
   "execution_count": 1,
   "id": "fc0b35fa",
   "metadata": {},
   "outputs": [],
   "source": [
    "#importing necessary libraries\n",
    "import pandas as pd\n",
    "import numpy as np\n",
    "import matplotlib.pyplot as plt\n",
    "%matplotlib inline\n",
    "import tensorflow as tf\n",
    "from tensorflow import keras"
   ]
  },
  {
   "cell_type": "code",
   "execution_count": 2,
   "id": "91d00f68",
   "metadata": {},
   "outputs": [],
   "source": [
    "#Directories of train and test set\n",
    "train_dir=r'D:\\deeplearning\\archive\\Train'\n",
    "test_dir=r'D:\\deeplearning\\archive\\Test'\n",
    "validation_dir=r'D:\\deeplearning\\archive\\Validation'"
   ]
  },
  {
   "cell_type": "code",
   "execution_count": 3,
   "id": "93d9915e",
   "metadata": {},
   "outputs": [],
   "source": [
    "from tensorflow.keras.preprocessing.image import ImageDataGenerator"
   ]
  },
  {
   "cell_type": "code",
   "execution_count": 4,
   "id": "1922add5",
   "metadata": {},
   "outputs": [
    {
     "name": "stdout",
     "output_type": "stream",
     "text": [
      "Found 36920 images belonging to 43 classes.\n",
      "Found 2360 images belonging to 43 classes.\n"
     ]
    }
   ],
   "source": [
    "train_datagen=ImageDataGenerator(rescale=1./255)\n",
    "test_datagen=ImageDataGenerator(rescale=1./255)\n",
    "train_generator=train_datagen.flow_from_directory(\n",
    "    train_dir,\n",
    "    target_size=(150,150),\n",
    "    batch_size=20,\n",
    "    class_mode=\"categorical\")\n",
    "validation_generator=test_datagen.flow_from_directory(\n",
    "    validation_dir,\n",
    "    target_size=(150,150),\n",
    "    batch_size=20,\n",
    "    class_mode=\"categorical\")"
   ]
  },
  {
   "cell_type": "code",
   "execution_count": 14,
   "id": "1b30630e",
   "metadata": {},
   "outputs": [],
   "source": [
    "from tensorflow.keras import models\n",
    "from tensorflow.keras import layers\n",
    "model = models.Sequential()\n",
    "#Convolution and Maxpooling layers for feature extraction\n",
    "model.add(keras.layers.Conv2D(32, (3, 3), padding='same', input_shape=(150, 150, 3), activation='relu'))\n",
    "model.add(keras.layers.MaxPooling2D((2, 2)))\n",
    "model.add(keras.layers.Conv2D(64, (3, 3), padding='same', activation='relu'))\n",
    "model.add(keras.layers.MaxPooling2D((2, 2)))\n",
    "model.add(keras.layers.Conv2D(128, (3, 3), padding='same', activation='relu'))\n",
    "model.add(keras.layers.MaxPooling2D((2, 2)))\n",
    "#Densely connected network\n",
    "model.add(keras.layers.Flatten())\n",
    "model.add(keras.layers.Dense(1024, activation='relu'))\n",
    "model.add(keras.layers.Dropout(0.3))\n",
    "model.add(keras.layers.Dense(512, activation='relu'))\n",
    "model.add(keras.layers.Dense(43, activation='softmax'))"
   ]
  },
  {
   "cell_type": "code",
   "execution_count": 15,
   "id": "56f209ce",
   "metadata": {
    "scrolled": false
   },
   "outputs": [
    {
     "name": "stdout",
     "output_type": "stream",
     "text": [
      "Model: \"sequential_1\"\n",
      "_________________________________________________________________\n",
      "Layer (type)                 Output Shape              Param #   \n",
      "=================================================================\n",
      "conv2d_3 (Conv2D)            (None, 150, 150, 32)      896       \n",
      "_________________________________________________________________\n",
      "max_pooling2d_3 (MaxPooling2 (None, 75, 75, 32)        0         \n",
      "_________________________________________________________________\n",
      "conv2d_4 (Conv2D)            (None, 75, 75, 64)        18496     \n",
      "_________________________________________________________________\n",
      "max_pooling2d_4 (MaxPooling2 (None, 37, 37, 64)        0         \n",
      "_________________________________________________________________\n",
      "conv2d_5 (Conv2D)            (None, 37, 37, 128)       73856     \n",
      "_________________________________________________________________\n",
      "max_pooling2d_5 (MaxPooling2 (None, 18, 18, 128)       0         \n",
      "_________________________________________________________________\n",
      "flatten_1 (Flatten)          (None, 41472)             0         \n",
      "_________________________________________________________________\n",
      "dense_3 (Dense)              (None, 1024)              42468352  \n",
      "_________________________________________________________________\n",
      "dropout_1 (Dropout)          (None, 1024)              0         \n",
      "_________________________________________________________________\n",
      "dense_4 (Dense)              (None, 512)               524800    \n",
      "_________________________________________________________________\n",
      "dense_5 (Dense)              (None, 43)                22059     \n",
      "=================================================================\n",
      "Total params: 43,108,459\n",
      "Trainable params: 43,108,459\n",
      "Non-trainable params: 0\n",
      "_________________________________________________________________\n"
     ]
    }
   ],
   "source": [
    "model.summary()"
   ]
  },
  {
   "cell_type": "code",
   "execution_count": 16,
   "id": "d10387ab",
   "metadata": {},
   "outputs": [],
   "source": [
    "from tensorflow.keras import optimizers\n",
    "model.compile(loss='categorical_crossentropy',\n",
    "              optimizer='sgd',\n",
    "              metrics=['acc'])"
   ]
  },
  {
   "cell_type": "code",
   "execution_count": 17,
   "id": "aee9cf0d",
   "metadata": {},
   "outputs": [],
   "source": [
    "checkpoint_cb = keras.callbacks.ModelCheckpoint(\"CNN_Project_Model_inception-{epoch:02d}.h5\")"
   ]
  },
  {
   "cell_type": "code",
   "execution_count": 18,
   "id": "667e19a9",
   "metadata": {},
   "outputs": [
    {
     "name": "stdout",
     "output_type": "stream",
     "text": [
      "Epoch 1/30\n",
      "1846/1846 [==============================] - 19s 10ms/step - loss: 1.9302 - acc: 0.4566 - val_loss: 0.7793 - val_acc: 0.7623\n",
      "Epoch 2/30\n",
      "1846/1846 [==============================] - 19s 10ms/step - loss: 0.3835 - acc: 0.8844 - val_loss: 0.2315 - val_acc: 0.9356\n",
      "Epoch 3/30\n",
      "1846/1846 [==============================] - 19s 10ms/step - loss: 0.1630 - acc: 0.9537 - val_loss: 0.1649 - val_acc: 0.9538\n",
      "Epoch 4/30\n",
      "1846/1846 [==============================] - 19s 10ms/step - loss: 0.0954 - acc: 0.9731 - val_loss: 0.1507 - val_acc: 0.9572\n",
      "Epoch 5/30\n",
      "1846/1846 [==============================] - 19s 10ms/step - loss: 0.0630 - acc: 0.9822 - val_loss: 0.1158 - val_acc: 0.9691\n",
      "Epoch 6/30\n",
      "1846/1846 [==============================] - 19s 10ms/step - loss: 0.0403 - acc: 0.9879 - val_loss: 0.0983 - val_acc: 0.9831ss: 0.0404 - a - ETA: 1s - loss: 0.\n",
      "Epoch 7/30\n",
      "1846/1846 [==============================] - 19s 10ms/step - loss: 0.0341 - acc: 0.9905 - val_loss: 0.1039 - val_acc: 0.9742\n",
      "Epoch 8/30\n",
      "1846/1846 [==============================] - 19s 10ms/step - loss: 0.0269 - acc: 0.9928 - val_loss: 0.0797 - val_acc: 0.9797\n",
      "Epoch 9/30\n",
      "1846/1846 [==============================] - 19s 10ms/step - loss: 0.0150 - acc: 0.9965 - val_loss: 0.0642 - val_acc: 0.9894\n",
      "Epoch 10/30\n",
      "1846/1846 [==============================] - 19s 10ms/step - loss: 0.0154 - acc: 0.9959 - val_loss: 0.0762 - val_acc: 0.9869\n",
      "Epoch 11/30\n",
      "1846/1846 [==============================] - 19s 10ms/step - loss: 0.0116 - acc: 0.9970 - val_loss: 0.0911 - val_acc: 0.9814\n",
      "Epoch 12/30\n",
      "1846/1846 [==============================] - 19s 10ms/step - loss: 0.0156 - acc: 0.9960 - val_loss: 0.0739 - val_acc: 0.9835: 2 - ETA: 1s - loss: 0.0153 - acc - ETA: 0s - loss: 0.0155 - a\n",
      "Epoch 13/30\n",
      "1846/1846 [==============================] - 19s 10ms/step - loss: 0.0073 - acc: 0.9980 - val_loss: 0.0507 - val_acc: 0.99240076 - - ETA: \n",
      "Epoch 14/30\n",
      "1846/1846 [==============================] - 19s 10ms/step - loss: 0.0112 - acc: 0.9974 - val_loss: 0.0791 - val_acc: 0.9864\n",
      "Epoch 15/30\n",
      "1846/1846 [==============================] - 19s 10ms/step - loss: 0.0150 - acc: 0.9959 - val_loss: 0.1017 - val_acc: 0.9839\n",
      "Epoch 16/30\n",
      "1846/1846 [==============================] - 19s 10ms/step - loss: 0.0067 - acc: 0.9983 - val_loss: 0.0591 - val_acc: 0.9894\n",
      "Epoch 17/30\n",
      "1846/1846 [==============================] - 19s 10ms/step - loss: 0.0031 - acc: 0.9993 - val_loss: 0.0783 - val_acc: 0.987300 - ETA: 9s - ETA: 5s - loss: 0.0032 - acc: 0 - ETA: 5s - loss: 0.0032 - ETA: 4s - los - ETA: 1s - loss: \n",
      "Epoch 18/30\n",
      "1846/1846 [==============================] - 19s 10ms/step - loss: 0.0042 - acc: 0.9988 - val_loss: 0.0597 - val_acc: 0.9915\n",
      "Epoch 19/30\n",
      "1846/1846 [==============================] - 19s 10ms/step - loss: 0.0055 - acc: 0.9987 - val_loss: 0.0624 - val_acc: 0.9911\n",
      "Epoch 20/30\n",
      "1846/1846 [==============================] - 19s 10ms/step - loss: 0.0042 - acc: 0.9988 - val_loss: 0.0740 - val_acc: 0.9869\n",
      "Epoch 21/30\n",
      "1846/1846 [==============================] - 19s 10ms/step - loss: 0.0067 - acc: 0.9981 - val_loss: 0.0592 - val_acc: 0.9911\n",
      "Epoch 22/30\n",
      "1846/1846 [==============================] - 19s 10ms/step - loss: 0.0086 - acc: 0.9976 - val_loss: 0.0780 - val_acc: 0.9860\n",
      "Epoch 23/30\n",
      "1846/1846 [==============================] - 19s 10ms/step - loss: 0.0045 - acc: 0.9990 - val_loss: 0.0671 - val_acc: 0.9898.999 - ETA: 1s - \n",
      "Epoch 24/30\n",
      "1846/1846 [==============================] - 19s 10ms/step - loss: 0.0034 - acc: 0.9992 - val_loss: 0.0642 - val_acc: 0.9907\n",
      "Epoch 25/30\n",
      "1846/1846 [==============================] - 19s 10ms/step - loss: 0.0026 - acc: 0.9994 - val_loss: 0.0711 - val_acc: 0.9886\n",
      "Epoch 26/30\n",
      "1846/1846 [==============================] - 19s 10ms/step - loss: 0.0021 - acc: 0.9995 - val_loss: 0.0847 - val_acc: 0.98860s - loss: 0.0021  - ETA: 0s - loss: 0.0021 - acc: 0.9\n",
      "Epoch 27/30\n",
      "1846/1846 [==============================] - 19s 10ms/step - loss: 0.0011 - acc: 0.9998 - val_loss: 0.0616 - val_acc: 0.9903\n",
      "Epoch 28/30\n",
      "1846/1846 [==============================] - 19s 10ms/step - loss: 0.0023 - acc: 0.9994 - val_loss: 0.0615 - val_acc: 0.9911\n",
      "Epoch 29/30\n",
      "1846/1846 [==============================] - 19s 10ms/step - loss: 0.0047 - acc: 0.9992 - val_loss: 0.0582 - val_acc: 0.9907\n",
      "Epoch 30/30\n",
      "1846/1846 [==============================] - 19s 10ms/step - loss: 0.0032 - acc: 0.9993 - val_loss: 0.0627 - val_acc: 0.9881\n"
     ]
    }
   ],
   "source": [
    "history=model.fit(train_generator,steps_per_epoch=1846,\n",
    "                           epochs=30,\n",
    "                           validation_data=validation_generator,\n",
    "                           validation_steps=118,\n",
    "                           callbacks=[checkpoint_cb])"
   ]
  },
  {
   "cell_type": "code",
   "execution_count": 19,
   "id": "cc1184f9",
   "metadata": {},
   "outputs": [
    {
     "data": {
      "image/png": "[encoded data removed]",
      "text/plain": [
       "<Figure size 576x360 with 1 Axes>"
      ]
     },
     "metadata": {
      "needs_background": "light"
     },
     "output_type": "display_data"
    }
   ],
   "source": [
    "pd.DataFrame(history.history).plot(figsize=(8,5))\n",
    "plt.grid(True)\n",
    "plt.gca().set_ylim(0,1)\n",
    "plt.show()"
   ]
  },
  {
   "cell_type": "code",
   "execution_count": 20,
   "id": "89e6cf4a",
   "metadata": {},
   "outputs": [
    {
     "name": "stdout",
     "output_type": "stream",
     "text": [
      "Found 2320 images belonging to 43 classes.\n"
     ]
    }
   ],
   "source": [
    "test_generator=test_datagen.flow_from_directory(\n",
    "    test_dir,\n",
    "    target_size=(150,150),\n",
    "    batch_size=20,\n",
    "    class_mode=\"categorical\")"
   ]
  },
  {
   "cell_type": "code",
   "execution_count": 21,
   "id": "4306bbef",
   "metadata": {},
   "outputs": [
    {
     "name": "stderr",
     "output_type": "stream",
     "text": [
      "c:\\users\\alex1121\\appdata\\local\\programs\\python\\python39\\lib\\site-packages\\tensorflow\\python\\keras\\engine\\training.py:1973: UserWarning: `Model.evaluate_generator` is deprecated and will be removed in a future version. Please use `Model.evaluate`, which supports generators.\n",
      "  warnings.warn('`Model.evaluate_generator` is deprecated and '\n"
     ]
    },
    {
     "data": {
      "text/plain": [
       "[0.04769895598292351, 0.9890000224113464]"
      ]
     },
     "execution_count": 21,
     "metadata": {},
     "output_type": "execute_result"
    }
   ],
   "source": [
    "model.evaluate_generator(test_generator,steps=50)"
   ]
  },
  {
   "cell_type": "code",
   "execution_count": null,
   "id": "365ac0a9",
   "metadata": {},
   "outputs": [],
   "source": []
  }
 ],
 "metadata": {
  "kernelspec": {
   "display_name": "Python 3",
   "language": "python",
   "name": "python3"
  },
  "language_info": {
   "codemirror_mode": {
    "name": "ipython",
    "version": 3
   },
   "file_extension": ".py",
   "mimetype": "text/x-python",
   "name": "python",
   "nbconvert_exporter": "python",
   "pygments_lexer": "ipython3",
   "version": "3.9.5"
  }
 },
 "nbformat": 4,
 "nbformat_minor": 5
}
