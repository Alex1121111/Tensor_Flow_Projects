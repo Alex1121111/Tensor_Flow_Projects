import tensorflow as tf
from tensorflow import keras
from tensorflow.keras.preprocessing.text import Tokenizer
sentences = [
    'I am a dev'
    'I listen to music'
    'I am Alex'
    'I am a gamer'
]
tokenizer=Tokenizer(num_words = 100)
tokenizer.fit_on_texts(sentences)
word_index = tokenizer.word_index
print(word_index)
